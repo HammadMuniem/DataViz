{
 "cells": [
  {
   "cell_type": "code",
   "execution_count": 1,
   "metadata": {},
   "outputs": [
    {
     "data": {
      "text/html": [
       "<div>\n",
       "<style scoped>\n",
       "    .dataframe tbody tr th:only-of-type {\n",
       "        vertical-align: middle;\n",
       "    }\n",
       "\n",
       "    .dataframe tbody tr th {\n",
       "        vertical-align: top;\n",
       "    }\n",
       "\n",
       "    .dataframe thead th {\n",
       "        text-align: right;\n",
       "    }\n",
       "</style>\n",
       "<table border=\"1\" class=\"dataframe\">\n",
       "  <thead>\n",
       "    <tr style=\"text-align: right;\">\n",
       "      <th></th>\n",
       "      <th>GEOID</th>\n",
       "      <th>SUMLEV</th>\n",
       "      <th>STATE</th>\n",
       "      <th>COUNTY</th>\n",
       "      <th>CBSA</th>\n",
       "      <th>CSA</th>\n",
       "      <th>NECTA</th>\n",
       "      <th>CNECTA</th>\n",
       "      <th>NAME</th>\n",
       "      <th>POP100</th>\n",
       "      <th>...</th>\n",
       "      <th>P012045</th>\n",
       "      <th>P012045.2000</th>\n",
       "      <th>P012046</th>\n",
       "      <th>P012046.2000</th>\n",
       "      <th>P012047</th>\n",
       "      <th>P012047.2000</th>\n",
       "      <th>P012048</th>\n",
       "      <th>P012048.2000</th>\n",
       "      <th>P012049</th>\n",
       "      <th>P012049.2000</th>\n",
       "    </tr>\n",
       "  </thead>\n",
       "  <tbody>\n",
       "    <tr>\n",
       "      <th>0</th>\n",
       "      <td>12</td>\n",
       "      <td>40</td>\n",
       "      <td>12</td>\n",
       "      <td>NaN</td>\n",
       "      <td>NaN</td>\n",
       "      <td>NaN</td>\n",
       "      <td>NaN</td>\n",
       "      <td>NaN</td>\n",
       "      <td>Florida</td>\n",
       "      <td>18801310</td>\n",
       "      <td>...</td>\n",
       "      <td>299777</td>\n",
       "      <td>235160</td>\n",
       "      <td>410799</td>\n",
       "      <td>395568</td>\n",
       "      <td>335427</td>\n",
       "      <td>348566</td>\n",
       "      <td>276098</td>\n",
       "      <td>239638</td>\n",
       "      <td>275812</td>\n",
       "      <td>219127</td>\n",
       "    </tr>\n",
       "  </tbody>\n",
       "</table>\n",
       "<p>1 rows × 111 columns</p>\n",
       "</div>"
      ],
      "text/plain": [
       "   GEOID  SUMLEV  STATE  COUNTY  CBSA  CSA  NECTA  CNECTA     NAME    POP100  \\\n",
       "0     12      40     12     NaN   NaN  NaN    NaN     NaN  Florida  18801310   \n",
       "\n",
       "   ...  P012045  P012045.2000  P012046  P012046.2000  P012047  P012047.2000  \\\n",
       "0  ...   299777        235160   410799        395568   335427        348566   \n",
       "\n",
       "   P012048  P012048.2000  P012049  P012049.2000  \n",
       "0   276098        239638   275812        219127  \n",
       "\n",
       "[1 rows x 111 columns]"
      ]
     },
     "execution_count": 1,
     "metadata": {},
     "output_type": "execute_result"
    }
   ],
   "source": [
    "import pandas as pd\n",
    "df = pd.read_csv('Florida-Age by Gender.csv')\n",
    "df.head()"
   ]
  }
 ],
 "metadata": {
  "kernelspec": {
   "display_name": "Python 3",
   "language": "python",
   "name": "python3"
  },
  "language_info": {
   "codemirror_mode": {
    "name": "ipython",
    "version": 3
   },
   "file_extension": ".py",
   "mimetype": "text/x-python",
   "name": "python",
   "nbconvert_exporter": "python",
   "pygments_lexer": "ipython3",
   "version": "3.7.3"
  }
 },
 "nbformat": 4,
 "nbformat_minor": 2
}
