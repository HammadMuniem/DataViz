{
 "cells": [
  {
   "cell_type": "code",
   "execution_count": 2,
   "metadata": {},
   "outputs": [],
   "source": [
    "import pandas as pd\n",
    "names = ['Bob','Jessica','Mary','John','Mel']\n",
    "grades = [76,95,77,78,99]\n",
    "bsdegrees = [1,1,0,0,1]\n",
    "msdegrees = [2,1,0,0,0]\n",
    "phddegrees = [0,1,0,0,0]"
   ]
  },
  {
   "cell_type": "code",
   "execution_count": 3,
   "metadata": {},
   "outputs": [
    {
     "data": {
      "text/html": [
       "<div>\n",
       "<style scoped>\n",
       "    .dataframe tbody tr th:only-of-type {\n",
       "        vertical-align: middle;\n",
       "    }\n",
       "\n",
       "    .dataframe tbody tr th {\n",
       "        vertical-align: top;\n",
       "    }\n",
       "\n",
       "    .dataframe thead th {\n",
       "        text-align: right;\n",
       "    }\n",
       "</style>\n",
       "<table border=\"1\" class=\"dataframe\">\n",
       "  <thead>\n",
       "    <tr style=\"text-align: right;\">\n",
       "      <th></th>\n",
       "      <th>Names</th>\n",
       "      <th>Grades</th>\n",
       "      <th>BS_Degrees</th>\n",
       "      <th>MS_Degrees</th>\n",
       "      <th>PHD_Degrees</th>\n",
       "    </tr>\n",
       "  </thead>\n",
       "  <tbody>\n",
       "    <tr>\n",
       "      <th>0</th>\n",
       "      <td>Bob</td>\n",
       "      <td>76</td>\n",
       "      <td>1</td>\n",
       "      <td>2</td>\n",
       "      <td>0</td>\n",
       "    </tr>\n",
       "    <tr>\n",
       "      <th>1</th>\n",
       "      <td>Jessica</td>\n",
       "      <td>95</td>\n",
       "      <td>1</td>\n",
       "      <td>1</td>\n",
       "      <td>1</td>\n",
       "    </tr>\n",
       "    <tr>\n",
       "      <th>2</th>\n",
       "      <td>Mary</td>\n",
       "      <td>77</td>\n",
       "      <td>0</td>\n",
       "      <td>0</td>\n",
       "      <td>0</td>\n",
       "    </tr>\n",
       "    <tr>\n",
       "      <th>3</th>\n",
       "      <td>John</td>\n",
       "      <td>78</td>\n",
       "      <td>0</td>\n",
       "      <td>0</td>\n",
       "      <td>0</td>\n",
       "    </tr>\n",
       "    <tr>\n",
       "      <th>4</th>\n",
       "      <td>Mel</td>\n",
       "      <td>99</td>\n",
       "      <td>1</td>\n",
       "      <td>0</td>\n",
       "      <td>0</td>\n",
       "    </tr>\n",
       "  </tbody>\n",
       "</table>\n",
       "</div>"
      ],
      "text/plain": [
       "     Names  Grades  BS_Degrees  MS_Degrees  PHD_Degrees\n",
       "0      Bob      76           1           2            0\n",
       "1  Jessica      95           1           1            1\n",
       "2     Mary      77           0           0            0\n",
       "3     John      78           0           0            0\n",
       "4      Mel      99           1           0            0"
      ]
     },
     "execution_count": 3,
     "metadata": {},
     "output_type": "execute_result"
    }
   ],
   "source": [
    "GradeList = zip(names,grades,bsdegrees,msdegrees,phddegrees)\n",
    "df = pd.DataFrame(data=GradeList,\n",
    "        columns=['Names','Grades','BS_Degrees','MS_Degrees','PHD_Degrees'])\n",
    "df"
   ]
  },
  {
   "cell_type": "code",
   "execution_count": 15,
   "metadata": {},
   "outputs": [
    {
     "name": "stdout",
     "output_type": "stream",
     "text": [
      "          Grades  BS_Degrees  MS_Degrees  PHD_Degrees\n",
      "count   5.000000    5.000000    5.000000     5.000000\n",
      "mean   85.000000    0.600000    0.600000     0.200000\n",
      "std    11.067972    0.547723    0.894427     0.447214\n",
      "min    76.000000    0.000000    0.000000     0.000000\n",
      "25%    77.000000    0.000000    0.000000     0.000000\n",
      "50%    78.000000    1.000000    0.000000     0.000000\n",
      "75%    95.000000    1.000000    1.000000     0.000000\n",
      "max    99.000000    1.000000    2.000000     1.000000\n",
      "\n",
      "MEDIAN\n",
      "Grades         78.0\n",
      "BS_Degrees      1.0\n",
      "MS_Degrees      0.0\n",
      "PHD_Degrees     0.0\n",
      "dtype: float64\n",
      "\n",
      "MODE\n",
      "     Names  Grades  BS_Degrees  MS_Degrees  PHD_Degrees\n",
      "0      Bob      76         1.0         0.0          0.0\n",
      "1  Jessica      77         NaN         NaN          NaN\n",
      "2     John      78         NaN         NaN          NaN\n",
      "3     Mary      95         NaN         NaN          NaN\n",
      "4      Mel      99         NaN         NaN          NaN\n",
      "\n",
      "VARIANCE\n",
      "Grades         122.5\n",
      "BS_Degrees       0.3\n",
      "MS_Degrees       0.8\n",
      "PHD_Degrees      0.2\n",
      "dtype: float64\n"
     ]
    }
   ],
   "source": [
    "print(df.describe())\n",
    "print()\n",
    "print('MEDIAN')\n",
    "print(df.median())\n",
    "print()\n",
    "print('MODE')\n",
    "print(df.mode())\n",
    "print()\n",
    "print('VARIANCE')\n",
    "print(df.var())"
   ]
  }
 ],
 "metadata": {
  "kernelspec": {
   "display_name": "Python 3",
   "language": "python",
   "name": "python3"
  },
  "language_info": {
   "codemirror_mode": {
    "name": "ipython",
    "version": 3
   },
   "file_extension": ".py",
   "mimetype": "text/x-python",
   "name": "python",
   "nbconvert_exporter": "python",
   "pygments_lexer": "ipython3",
   "version": "3.7.6"
  }
 },
 "nbformat": 4,
 "nbformat_minor": 4
}
