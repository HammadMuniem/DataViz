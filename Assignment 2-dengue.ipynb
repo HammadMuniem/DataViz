{
 "cells": [
  {
   "cell_type": "code",
   "execution_count": 239,
   "metadata": {},
   "outputs": [],
   "source": [
    "import pandas as pd"
   ]
  },
  {
   "cell_type": "code",
   "execution_count": 240,
   "metadata": {},
   "outputs": [],
   "source": [
    "Dengue= pd.read_csv(\"dengue_features_train.csv\")"
   ]
  },
  {
   "cell_type": "code",
   "execution_count": 241,
   "metadata": {},
   "outputs": [],
   "source": [
    "Dengue.columns= Dengue.columns.str.replace('station','stn')\n",
    "Dengue.columns= Dengue.columns.str.replace('reanalysis','re_an')\n",
    "Dengue.columns= Dengue.columns.str.replace('humidity','hd')\n",
    "Dengue.columns= Dengue.columns.str.replace('precipitation','prec')"
   ]
  },
  {
   "cell_type": "code",
   "execution_count": 242,
   "metadata": {},
   "outputs": [],
   "source": [
    "Dengue.year = Dengue.year.astype('category')"
   ]
  },
  {
   "cell_type": "code",
   "execution_count": 243,
   "metadata": {},
   "outputs": [],
   "source": [
    "Dengue_labels= pd.read_csv(\"dengue_labels_train.csv\")"
   ]
  },
  {
   "cell_type": "code",
   "execution_count": 244,
   "metadata": {},
   "outputs": [],
   "source": [
    "dengue_final=pd.merge(Dengue,Dengue_labels, how='left', left_on =['city','year','weekofyear'], right_on =['city','year','weekofyear'])"
   ]
  },
  {
   "cell_type": "code",
   "execution_count": 245,
   "metadata": {},
   "outputs": [
    {
     "data": {
      "text/plain": [
       "city                            0\n",
       "year                            0\n",
       "weekofyear                      0\n",
       "week_start_date                 0\n",
       "ndvi_ne                       194\n",
       "ndvi_nw                        52\n",
       "ndvi_se                        22\n",
       "ndvi_sw                        22\n",
       "prec_amt_mm                    13\n",
       "re_an_air_temp_k               10\n",
       "re_an_avg_temp_k               10\n",
       "re_an_dew_point_temp_k         10\n",
       "re_an_max_air_temp_k           10\n",
       "re_an_min_air_temp_k           10\n",
       "re_an_precip_amt_kg_per_m2     10\n",
       "re_an_relative_hd_percent      10\n",
       "re_an_sat_precip_amt_mm        13\n",
       "re_an_specific_hd_g_per_kg     10\n",
       "re_an_tdtr_k                   10\n",
       "stn_avg_temp_c                 43\n",
       "stn_diur_temp_rng_c            43\n",
       "stn_max_temp_c                 20\n",
       "stn_min_temp_c                 14\n",
       "stn_precip_mm                  22\n",
       "total_cases                     0\n",
       "dtype: int64"
      ]
     },
     "execution_count": 245,
     "metadata": {},
     "output_type": "execute_result"
    }
   ],
   "source": [
    "dengue_final.isnull().sum(axis = 0)"
   ]
  },
  {
   "cell_type": "code",
   "execution_count": 246,
   "metadata": {},
   "outputs": [],
   "source": [
    "dengue_final=dengue_final.fillna(method='ffill')"
   ]
  },
  {
   "cell_type": "code",
   "execution_count": 247,
   "metadata": {},
   "outputs": [
    {
     "data": {
      "text/plain": [
       "city                          0\n",
       "year                          0\n",
       "weekofyear                    0\n",
       "week_start_date               0\n",
       "ndvi_ne                       0\n",
       "ndvi_nw                       0\n",
       "ndvi_se                       0\n",
       "ndvi_sw                       0\n",
       "prec_amt_mm                   0\n",
       "re_an_air_temp_k              0\n",
       "re_an_avg_temp_k              0\n",
       "re_an_dew_point_temp_k        0\n",
       "re_an_max_air_temp_k          0\n",
       "re_an_min_air_temp_k          0\n",
       "re_an_precip_amt_kg_per_m2    0\n",
       "re_an_relative_hd_percent     0\n",
       "re_an_sat_precip_amt_mm       0\n",
       "re_an_specific_hd_g_per_kg    0\n",
       "re_an_tdtr_k                  0\n",
       "stn_avg_temp_c                0\n",
       "stn_diur_temp_rng_c           0\n",
       "stn_max_temp_c                0\n",
       "stn_min_temp_c                0\n",
       "stn_precip_mm                 0\n",
       "total_cases                   0\n",
       "dtype: int64"
      ]
     },
     "execution_count": 247,
     "metadata": {},
     "output_type": "execute_result"
    }
   ],
   "source": [
    "dengue_final.isnull().sum(axis = 0)"
   ]
  },
  {
   "cell_type": "code",
   "execution_count": 248,
   "metadata": {},
   "outputs": [
    {
     "data": {
      "text/plain": [
       "(1456, 25)"
      ]
     },
     "execution_count": 248,
     "metadata": {},
     "output_type": "execute_result"
    }
   ],
   "source": [
    "dengue_final.shape"
   ]
  },
  {
   "cell_type": "code",
   "execution_count": 211,
   "metadata": {},
   "outputs": [],
   "source": [
    "dengue_final.city = dengue_final.city.astype('category')\n",
    "dengue_final.year = dengue_final.year.astype('category')\n",
    "dengue_final.weekofyear = dengue_final.weekofyear.astype('category')"
   ]
  },
  {
   "cell_type": "code",
   "execution_count": 249,
   "metadata": {},
   "outputs": [
    {
     "data": {
      "text/plain": [
       "city                           object\n",
       "year                            int64\n",
       "weekofyear                      int64\n",
       "ndvi_ne                       float64\n",
       "ndvi_nw                       float64\n",
       "ndvi_se                       float64\n",
       "ndvi_sw                       float64\n",
       "prec_amt_mm                   float64\n",
       "re_an_air_temp_k              float64\n",
       "re_an_avg_temp_k              float64\n",
       "re_an_dew_point_temp_k        float64\n",
       "re_an_max_air_temp_k          float64\n",
       "re_an_min_air_temp_k          float64\n",
       "re_an_precip_amt_kg_per_m2    float64\n",
       "re_an_relative_hd_percent     float64\n",
       "re_an_sat_precip_amt_mm       float64\n",
       "re_an_specific_hd_g_per_kg    float64\n",
       "re_an_tdtr_k                  float64\n",
       "stn_avg_temp_c                float64\n",
       "stn_diur_temp_rng_c           float64\n",
       "stn_max_temp_c                float64\n",
       "stn_min_temp_c                float64\n",
       "stn_precip_mm                 float64\n",
       "total_cases                     int64\n",
       "dtype: object"
      ]
     },
     "execution_count": 249,
     "metadata": {},
     "output_type": "execute_result"
    }
   ],
   "source": [
    "dengue_final=dengue_final.drop(columns=['week_start_date'])\n",
    "dengue_final.dtypes"
   ]
  },
  {
   "cell_type": "code",
   "execution_count": 250,
   "metadata": {},
   "outputs": [
    {
     "data": {
      "text/plain": [
       "count    1456.000000\n",
       "mean       24.675137\n",
       "std        43.596000\n",
       "min         0.000000\n",
       "25%         5.000000\n",
       "50%        12.000000\n",
       "75%        28.000000\n",
       "max       461.000000\n",
       "Name: total_cases, dtype: float64"
      ]
     },
     "execution_count": 250,
     "metadata": {},
     "output_type": "execute_result"
    }
   ],
   "source": [
    "dengue_final.total_cases.describe()"
   ]
  },
  {
   "cell_type": "code",
   "execution_count": 251,
   "metadata": {},
   "outputs": [
    {
     "data": {
      "text/plain": [
       "<matplotlib.axes._subplots.AxesSubplot at 0x1df8d3d5e08>"
      ]
     },
     "execution_count": 251,
     "metadata": {},
     "output_type": "execute_result"
    },
    {
     "data": {
      "image/png": "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\n",
      "text/plain": [
       "<Figure size 432x288 with 1 Axes>"
      ]
     },
     "metadata": {
      "needs_background": "light"
     },
     "output_type": "display_data"
    }
   ],
   "source": [
    "dengue_final['total_cases'].plot(kind='hist')"
   ]
  },
  {
   "cell_type": "code",
   "execution_count": 252,
   "metadata": {},
   "outputs": [
    {
     "data": {
      "text/plain": [
       "227    1994\n",
       "228    1994\n",
       "229    1994\n",
       "230    1994\n",
       "231    1994\n",
       "232    1994\n",
       "233    1994\n",
       "234    1994\n",
       "235    1994\n",
       "236    1994\n",
       "237    1994\n",
       "238    1994\n",
       "239    1994\n",
       "240    1994\n",
       "429    1998\n",
       "430    1998\n",
       "431    1998\n",
       "432    1998\n",
       "433    1998\n",
       "Name: year, dtype: int64"
      ]
     },
     "execution_count": 252,
     "metadata": {},
     "output_type": "execute_result"
    }
   ],
   "source": [
    "dengue_final[dengue_final['total_cases']>=200]['year']"
   ]
  },
  {
   "cell_type": "code",
   "execution_count": 253,
   "metadata": {},
   "outputs": [
    {
     "data": {
      "text/plain": [
       "231    1994\n",
       "232    1994\n",
       "236    1994\n",
       "Name: year, dtype: int64"
      ]
     },
     "execution_count": 253,
     "metadata": {},
     "output_type": "execute_result"
    }
   ],
   "source": [
    "dengue_final[dengue_final['total_cases']>=400]['year']"
   ]
  },
  {
   "cell_type": "code",
   "execution_count": 254,
   "metadata": {},
   "outputs": [
    {
     "data": {
      "text/plain": [
       "(1456, 24)"
      ]
     },
     "execution_count": 254,
     "metadata": {},
     "output_type": "execute_result"
    }
   ],
   "source": [
    "dengue_final.shape"
   ]
  },
  {
   "cell_type": "markdown",
   "metadata": {},
   "source": [
    "Since only in 19 cases did the number of total cases go above 250, they can be considered as outliers and hence we are going to remove those values."
   ]
  },
  {
   "cell_type": "code",
   "execution_count": 255,
   "metadata": {},
   "outputs": [
    {
     "data": {
      "text/plain": [
       "(1437, 24)"
      ]
     },
     "execution_count": 255,
     "metadata": {},
     "output_type": "execute_result"
    }
   ],
   "source": [
    "dengue_final = dengue_final[dengue_final['total_cases'] <= 200]\n",
    "dengue_final.shape"
   ]
  },
  {
   "cell_type": "code",
   "execution_count": 256,
   "metadata": {},
   "outputs": [
    {
     "data": {
      "text/plain": [
       "<matplotlib.axes._subplots.AxesSubplot at 0x1df8d434388>"
      ]
     },
     "execution_count": 256,
     "metadata": {},
     "output_type": "execute_result"
    },
    {
     "data": {
      "image/png": "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\n",
      "text/plain": [
       "<Figure size 432x288 with 1 Axes>"
      ]
     },
     "metadata": {
      "needs_background": "light"
     },
     "output_type": "display_data"
    }
   ],
   "source": [
    "dengue_final['total_cases'].plot(kind='hist')"
   ]
  },
  {
   "cell_type": "code",
   "execution_count": 257,
   "metadata": {},
   "outputs": [],
   "source": [
    "import numpy as np\n",
    "dengue_final[\"total_cases_cat\"] = pd.cut(dengue_final[\"total_cases\"],\n",
    "                               bins=[-1,0,20,40,60,80,100,120,140,160,180, np.inf],\n",
    "                               labels=[1, 2, 3, 4, 5,6,7,8,9,10,11])   "
   ]
  },
  {
   "cell_type": "code",
   "execution_count": 258,
   "metadata": {},
   "outputs": [
    {
     "data": {
      "text/plain": [
       "<matplotlib.axes._subplots.AxesSubplot at 0x1df8d4ae5c8>"
      ]
     },
     "execution_count": 258,
     "metadata": {},
     "output_type": "execute_result"
    },
    {
     "data": {
      "image/png": "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\n",
      "text/plain": [
       "<Figure size 432x288 with 1 Axes>"
      ]
     },
     "metadata": {
      "needs_background": "light"
     },
     "output_type": "display_data"
    }
   ],
   "source": [
    "dengue_final[\"total_cases_cat\"].hist()"
   ]
  },
  {
   "cell_type": "code",
   "execution_count": 259,
   "metadata": {},
   "outputs": [],
   "source": [
    "dengue_final.total_cases_cat=dengue_final.total_cases_cat.to_frame()"
   ]
  },
  {
   "cell_type": "code",
   "execution_count": 265,
   "metadata": {},
   "outputs": [],
   "source": [
    "dengue_final.city = dengue_final.city.astype('category')\n",
    "dengue_final.year = dengue_final.year.astype('category')\n",
    "dengue_final.weekofyear = dengue_final.weekofyear.astype('category')\n",
    "dengue_final.total_cases_cat = dengue_final.total_cases_cat.astype('category')\n",
    "dengue_final.city=dengue_final.city.to_frame()"
   ]
  },
  {
   "cell_type": "code",
   "execution_count": 269,
   "metadata": {},
   "outputs": [
    {
     "ename": "KeyError",
     "evalue": "'Passing list-likes to .loc or [] with any missing labels is no longer supported, see https://pandas.pydata.org/pandas-docs/stable/user_guide/indexing.html#deprecate-loc-reindex-listlike'",
     "output_type": "error",
     "traceback": [
      "\u001b[1;31m---------------------------------------------------------------------------\u001b[0m",
      "\u001b[1;31mKeyError\u001b[0m                                  Traceback (most recent call last)",
      "\u001b[1;32m<ipython-input-269-50512b6b0ae2>\u001b[0m in \u001b[0;36m<module>\u001b[1;34m\u001b[0m\n\u001b[0;32m      6\u001b[0m \u001b[1;33m\u001b[0m\u001b[0m\n\u001b[0;32m      7\u001b[0m \u001b[1;32mfor\u001b[0m \u001b[0mtrain_index\u001b[0m\u001b[1;33m,\u001b[0m \u001b[0mtest_index\u001b[0m \u001b[1;32min\u001b[0m \u001b[0msplit\u001b[0m\u001b[1;33m.\u001b[0m\u001b[0msplit\u001b[0m\u001b[1;33m(\u001b[0m\u001b[0mdengue_final\u001b[0m\u001b[1;33m,\u001b[0m\u001b[0mdengue_final\u001b[0m\u001b[1;33m[\u001b[0m\u001b[1;33m[\u001b[0m\u001b[1;34m\"total_cases_cat\"\u001b[0m\u001b[1;33m]\u001b[0m\u001b[1;33m]\u001b[0m\u001b[1;33m)\u001b[0m\u001b[1;33m:\u001b[0m\u001b[1;33m\u001b[0m\u001b[1;33m\u001b[0m\u001b[0m\n\u001b[1;32m----> 8\u001b[1;33m     \u001b[0mstrat_train_set\u001b[0m \u001b[1;33m=\u001b[0m \u001b[0mdengue_final\u001b[0m\u001b[1;33m.\u001b[0m\u001b[0mloc\u001b[0m\u001b[1;33m[\u001b[0m\u001b[0mtrain_index\u001b[0m\u001b[1;33m]\u001b[0m\u001b[1;33m\u001b[0m\u001b[1;33m\u001b[0m\u001b[0m\n\u001b[0m\u001b[0;32m      9\u001b[0m     \u001b[0mstrat_test_set\u001b[0m \u001b[1;33m=\u001b[0m \u001b[0mdengue_final\u001b[0m\u001b[1;33m.\u001b[0m\u001b[0mloc\u001b[0m\u001b[1;33m[\u001b[0m\u001b[0mtest_index\u001b[0m\u001b[1;33m]\u001b[0m\u001b[1;33m\u001b[0m\u001b[1;33m\u001b[0m\u001b[0m\n\u001b[0;32m     10\u001b[0m \u001b[0mstrat_test_set\u001b[0m \u001b[1;33m=\u001b[0m \u001b[0mstrat_test_set\u001b[0m\u001b[1;33m.\u001b[0m\u001b[0mto_numpy\u001b[0m\u001b[1;33m(\u001b[0m\u001b[1;33m)\u001b[0m\u001b[1;33m\u001b[0m\u001b[1;33m\u001b[0m\u001b[0m\n",
      "\u001b[1;32mC:\\ProgramData\\Anaconda3\\lib\\site-packages\\pandas\\core\\indexing.py\u001b[0m in \u001b[0;36m__getitem__\u001b[1;34m(self, key)\u001b[0m\n\u001b[0;32m   1765\u001b[0m \u001b[1;33m\u001b[0m\u001b[0m\n\u001b[0;32m   1766\u001b[0m             \u001b[0mmaybe_callable\u001b[0m \u001b[1;33m=\u001b[0m \u001b[0mcom\u001b[0m\u001b[1;33m.\u001b[0m\u001b[0mapply_if_callable\u001b[0m\u001b[1;33m(\u001b[0m\u001b[0mkey\u001b[0m\u001b[1;33m,\u001b[0m \u001b[0mself\u001b[0m\u001b[1;33m.\u001b[0m\u001b[0mobj\u001b[0m\u001b[1;33m)\u001b[0m\u001b[1;33m\u001b[0m\u001b[1;33m\u001b[0m\u001b[0m\n\u001b[1;32m-> 1767\u001b[1;33m             \u001b[1;32mreturn\u001b[0m \u001b[0mself\u001b[0m\u001b[1;33m.\u001b[0m\u001b[0m_getitem_axis\u001b[0m\u001b[1;33m(\u001b[0m\u001b[0mmaybe_callable\u001b[0m\u001b[1;33m,\u001b[0m \u001b[0maxis\u001b[0m\u001b[1;33m=\u001b[0m\u001b[0maxis\u001b[0m\u001b[1;33m)\u001b[0m\u001b[1;33m\u001b[0m\u001b[1;33m\u001b[0m\u001b[0m\n\u001b[0m\u001b[0;32m   1768\u001b[0m \u001b[1;33m\u001b[0m\u001b[0m\n\u001b[0;32m   1769\u001b[0m     \u001b[1;32mdef\u001b[0m \u001b[0m_is_scalar_access\u001b[0m\u001b[1;33m(\u001b[0m\u001b[0mself\u001b[0m\u001b[1;33m,\u001b[0m \u001b[0mkey\u001b[0m\u001b[1;33m:\u001b[0m \u001b[0mTuple\u001b[0m\u001b[1;33m)\u001b[0m\u001b[1;33m:\u001b[0m\u001b[1;33m\u001b[0m\u001b[1;33m\u001b[0m\u001b[0m\n",
      "\u001b[1;32mC:\\ProgramData\\Anaconda3\\lib\\site-packages\\pandas\\core\\indexing.py\u001b[0m in \u001b[0;36m_getitem_axis\u001b[1;34m(self, key, axis)\u001b[0m\n\u001b[0;32m   1951\u001b[0m                     \u001b[1;32mraise\u001b[0m \u001b[0mValueError\u001b[0m\u001b[1;33m(\u001b[0m\u001b[1;34m\"Cannot index with multidimensional key\"\u001b[0m\u001b[1;33m)\u001b[0m\u001b[1;33m\u001b[0m\u001b[1;33m\u001b[0m\u001b[0m\n\u001b[0;32m   1952\u001b[0m \u001b[1;33m\u001b[0m\u001b[0m\n\u001b[1;32m-> 1953\u001b[1;33m                 \u001b[1;32mreturn\u001b[0m \u001b[0mself\u001b[0m\u001b[1;33m.\u001b[0m\u001b[0m_getitem_iterable\u001b[0m\u001b[1;33m(\u001b[0m\u001b[0mkey\u001b[0m\u001b[1;33m,\u001b[0m \u001b[0maxis\u001b[0m\u001b[1;33m=\u001b[0m\u001b[0maxis\u001b[0m\u001b[1;33m)\u001b[0m\u001b[1;33m\u001b[0m\u001b[1;33m\u001b[0m\u001b[0m\n\u001b[0m\u001b[0;32m   1954\u001b[0m \u001b[1;33m\u001b[0m\u001b[0m\n\u001b[0;32m   1955\u001b[0m             \u001b[1;31m# nested tuple slicing\u001b[0m\u001b[1;33m\u001b[0m\u001b[1;33m\u001b[0m\u001b[1;33m\u001b[0m\u001b[0m\n",
      "\u001b[1;32mC:\\ProgramData\\Anaconda3\\lib\\site-packages\\pandas\\core\\indexing.py\u001b[0m in \u001b[0;36m_getitem_iterable\u001b[1;34m(self, key, axis)\u001b[0m\n\u001b[0;32m   1592\u001b[0m         \u001b[1;32melse\u001b[0m\u001b[1;33m:\u001b[0m\u001b[1;33m\u001b[0m\u001b[1;33m\u001b[0m\u001b[0m\n\u001b[0;32m   1593\u001b[0m             \u001b[1;31m# A collection of keys\u001b[0m\u001b[1;33m\u001b[0m\u001b[1;33m\u001b[0m\u001b[1;33m\u001b[0m\u001b[0m\n\u001b[1;32m-> 1594\u001b[1;33m             \u001b[0mkeyarr\u001b[0m\u001b[1;33m,\u001b[0m \u001b[0mindexer\u001b[0m \u001b[1;33m=\u001b[0m \u001b[0mself\u001b[0m\u001b[1;33m.\u001b[0m\u001b[0m_get_listlike_indexer\u001b[0m\u001b[1;33m(\u001b[0m\u001b[0mkey\u001b[0m\u001b[1;33m,\u001b[0m \u001b[0maxis\u001b[0m\u001b[1;33m,\u001b[0m \u001b[0mraise_missing\u001b[0m\u001b[1;33m=\u001b[0m\u001b[1;32mFalse\u001b[0m\u001b[1;33m)\u001b[0m\u001b[1;33m\u001b[0m\u001b[1;33m\u001b[0m\u001b[0m\n\u001b[0m\u001b[0;32m   1595\u001b[0m             return self.obj._reindex_with_indexers(\n\u001b[0;32m   1596\u001b[0m                 \u001b[1;33m{\u001b[0m\u001b[0maxis\u001b[0m\u001b[1;33m:\u001b[0m \u001b[1;33m[\u001b[0m\u001b[0mkeyarr\u001b[0m\u001b[1;33m,\u001b[0m \u001b[0mindexer\u001b[0m\u001b[1;33m]\u001b[0m\u001b[1;33m}\u001b[0m\u001b[1;33m,\u001b[0m \u001b[0mcopy\u001b[0m\u001b[1;33m=\u001b[0m\u001b[1;32mTrue\u001b[0m\u001b[1;33m,\u001b[0m \u001b[0mallow_dups\u001b[0m\u001b[1;33m=\u001b[0m\u001b[1;32mTrue\u001b[0m\u001b[1;33m\u001b[0m\u001b[1;33m\u001b[0m\u001b[0m\n",
      "\u001b[1;32mC:\\ProgramData\\Anaconda3\\lib\\site-packages\\pandas\\core\\indexing.py\u001b[0m in \u001b[0;36m_get_listlike_indexer\u001b[1;34m(self, key, axis, raise_missing)\u001b[0m\n\u001b[0;32m   1550\u001b[0m \u001b[1;33m\u001b[0m\u001b[0m\n\u001b[0;32m   1551\u001b[0m         self._validate_read_indexer(\n\u001b[1;32m-> 1552\u001b[1;33m             \u001b[0mkeyarr\u001b[0m\u001b[1;33m,\u001b[0m \u001b[0mindexer\u001b[0m\u001b[1;33m,\u001b[0m \u001b[0mo\u001b[0m\u001b[1;33m.\u001b[0m\u001b[0m_get_axis_number\u001b[0m\u001b[1;33m(\u001b[0m\u001b[0maxis\u001b[0m\u001b[1;33m)\u001b[0m\u001b[1;33m,\u001b[0m \u001b[0mraise_missing\u001b[0m\u001b[1;33m=\u001b[0m\u001b[0mraise_missing\u001b[0m\u001b[1;33m\u001b[0m\u001b[1;33m\u001b[0m\u001b[0m\n\u001b[0m\u001b[0;32m   1553\u001b[0m         )\n\u001b[0;32m   1554\u001b[0m         \u001b[1;32mreturn\u001b[0m \u001b[0mkeyarr\u001b[0m\u001b[1;33m,\u001b[0m \u001b[0mindexer\u001b[0m\u001b[1;33m\u001b[0m\u001b[1;33m\u001b[0m\u001b[0m\n",
      "\u001b[1;32mC:\\ProgramData\\Anaconda3\\lib\\site-packages\\pandas\\core\\indexing.py\u001b[0m in \u001b[0;36m_validate_read_indexer\u001b[1;34m(self, key, indexer, axis, raise_missing)\u001b[0m\n\u001b[0;32m   1652\u001b[0m             \u001b[1;32mif\u001b[0m \u001b[1;32mnot\u001b[0m \u001b[1;33m(\u001b[0m\u001b[0max\u001b[0m\u001b[1;33m.\u001b[0m\u001b[0mis_categorical\u001b[0m\u001b[1;33m(\u001b[0m\u001b[1;33m)\u001b[0m \u001b[1;32mor\u001b[0m \u001b[0max\u001b[0m\u001b[1;33m.\u001b[0m\u001b[0mis_interval\u001b[0m\u001b[1;33m(\u001b[0m\u001b[1;33m)\u001b[0m\u001b[1;33m)\u001b[0m\u001b[1;33m:\u001b[0m\u001b[1;33m\u001b[0m\u001b[1;33m\u001b[0m\u001b[0m\n\u001b[0;32m   1653\u001b[0m                 raise KeyError(\n\u001b[1;32m-> 1654\u001b[1;33m                     \u001b[1;34m\"Passing list-likes to .loc or [] with any missing labels \"\u001b[0m\u001b[1;33m\u001b[0m\u001b[1;33m\u001b[0m\u001b[0m\n\u001b[0m\u001b[0;32m   1655\u001b[0m                     \u001b[1;34m\"is no longer supported, see \"\u001b[0m\u001b[1;33m\u001b[0m\u001b[1;33m\u001b[0m\u001b[0m\n\u001b[0;32m   1656\u001b[0m                     \u001b[1;34m\"https://pandas.pydata.org/pandas-docs/stable/user_guide/indexing.html#deprecate-loc-reindex-listlike\"\u001b[0m  \u001b[1;31m# noqa:E501\u001b[0m\u001b[1;33m\u001b[0m\u001b[1;33m\u001b[0m\u001b[0m\n",
      "\u001b[1;31mKeyError\u001b[0m: 'Passing list-likes to .loc or [] with any missing labels is no longer supported, see https://pandas.pydata.org/pandas-docs/stable/user_guide/indexing.html#deprecate-loc-reindex-listlike'"
     ]
    }
   ],
   "source": [
    "from sklearn.model_selection import StratifiedShuffleSplit\n",
    "\n",
    "split = StratifiedShuffleSplit(n_splits=1, test_size=0.2, random_state=42)\n",
    "\n",
    "split.get_n_splits()\n",
    "\n",
    "for train_index, test_index in split.split(dengue_final,dengue_final[[\"total_cases_cat\"]]):\n",
    "    strat_train_set = dengue_final.loc[train_index]\n",
    "    strat_test_set = dengue_final.loc[test_index]\n",
   ]
  },
  {
   "cell_type": "code",
   "execution_count": 267,
   "metadata": {},
   "outputs": [
    {
     "name": "stdout",
     "output_type": "stream",
     "text": [
      "1.0.1\n"
     ]
    }
   ],
   "source": [
    "print(pd.__version__)"
   ]
  },
  {
   "cell_type": "code",
   "execution_count": null,
   "metadata": {},
   "outputs": [],
   "source": []
  },
  {
   "cell_type": "code",
   "execution_count": null,
   "metadata": {},
   "outputs": [],
   "source": []
  }
 ],
 "metadata": {
  "kernelspec": {
   "display_name": "Python 3",
   "language": "python",
   "name": "python3"
  },
  "language_info": {
   "codemirror_mode": {
    "name": "ipython",
    "version": 3
   },
   "file_extension": ".py",
   "mimetype": "text/x-python",
   "name": "python",
   "nbconvert_exporter": "python",
   "pygments_lexer": "ipython3",
   "version": "3.7.6"
  }
 },
 "nbformat": 4,
 "nbformat_minor": 4
}
